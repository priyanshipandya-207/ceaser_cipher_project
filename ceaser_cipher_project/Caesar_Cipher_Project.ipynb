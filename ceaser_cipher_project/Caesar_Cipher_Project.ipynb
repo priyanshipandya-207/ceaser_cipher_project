{
 "cells": [
  {
   "cell_type": "markdown",
   "id": "b33a80da",
   "metadata": {},
   "source": [
    "# 🔐 Caesar Cipher Project\n",
    "This notebook demonstrates encryption and decryption using the Caesar Cipher algorithm."
   ]
  },
  {
   "cell_type": "code",
   "execution_count": null,
   "id": "6b8ed6e8",
   "metadata": {},
   "outputs": [],
   "source": [
    "def caesar_cipher_encrypt(text, shift):\n",
    "    result = \"\"\n",
    "    for char in text:\n",
    "        if char.isalpha():  # Only encrypt letters\n",
    "            shift_base = 65 if char.isupper() else 97\n",
    "            result += chr((ord(char) - shift_base + shift) % 26 + shift_base)\n",
    "        else:\n",
    "            result += char  # Keep spaces/punctuation unchanged\n",
    "    return result\n",
    "\n",
    "def caesar_cipher_decrypt(text, shift):\n",
    "    return caesar_cipher_encrypt(text, -shift)  # Reverse shift for decryption\n",
    "\n",
    "\n",
    "# ---- Main Program ----\n",
    "print(\"🔐 Caesar Cipher Encryption & Decryption Tool 🔐\")\n",
    "\n",
    "message = input(\"Enter your message: \")\n",
    "shift = int(input(\"Enter shift value (e.g., 3): \"))\n",
    "\n",
    "encrypted = caesar_cipher_encrypt(message, shift)\n",
    "decrypted = caesar_cipher_decrypt(encrypted, shift)\n",
    "\n",
    "print(\"\\n✅ Results:\")\n",
    "print(\"Original Message:\", message)\n",
    "print(\"Encrypted Message:\", encrypted)\n",
    "print(\"Decrypted Message:\", decrypted)"
   ]
  }
 ],
 "metadata": {},
 "nbformat": 4,
 "nbformat_minor": 5
}
